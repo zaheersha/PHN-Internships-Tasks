{
  "nbformat": 4,
  "nbformat_minor": 0,
  "metadata": {
    "colab": {
      "provenance": []
    },
    "kernelspec": {
      "name": "python3",
      "display_name": "Python 3"
    },
    "language_info": {
      "name": "python"
    }
  },
  "cells": [
    {
      "cell_type": "markdown",
      "source": [
        "Write a Python script using the openpyxl library to read data from an Excel spreadsheet, manipulate\n",
        "the data, and write the results back to a new spreadsheet.\n",
        "The Excel spreadsheet should have the following format:\n",
        "\n",
        "1. The data should be in a table with a header row and at least one row of data.\n",
        "2. The first column should contain the name of a fruit, and the second column should\n",
        "contain the quantity of that fruit.\n",
        "The script should perform the following tasks:\n",
        "\n",
        "1. Read the data from the Excel spreadsheet.\n",
        "2. Calculate the total quantity of each fruit.\n",
        "3. Write the results to a new Excel spreadsheet with the following format:\n",
        "4. The first column should contain the name of each fruit.\n",
        "5. The second column should contain the total quantity of that fruit.\n",
        "\n",
        "For example, if the original spreadsheet contained the following data:\n",
        "\n",
        "\n",
        "---\n",
        "\n",
        "\n",
        "Fruit Quantity :\n",
        "Apple 10\n",
        "Banana 5\n",
        "Apple 15\n",
        "Orange 20\n",
        "Banana 10\n",
        "\n",
        "---\n",
        "\n",
        "\n",
        "[Text Wrapping Break]\n",
        "The script should create a new spreadsheet with the following data:\n",
        "\n",
        "\n",
        "---\n",
        "\n",
        "\n",
        "Fruit Total Quantity :\n",
        "Apple 25\n",
        "Banana 15\n",
        "Orange 20\n",
        "\n",
        "\n",
        "---\n",
        "\n",
        "\n",
        "Note: You can create a new Excel spreadsheet using Openpyxl by creating a new Workbook object and adding sheets to it. \n",
        "You can write data to a sheet by accessing its cells using row and column indices and setting their values using the \"value\" attribute.\n",
        " You can save the workbook to a file using\n",
        "the \"save\" method."
      ],
      "metadata": {
        "id": "-wVIhunhljVv"
      }
    },
    {
      "cell_type": "markdown",
      "source": [
        "# Importing the openpyxl library\n",
        "python\n"
      ],
      "metadata": {
        "id": "iwH5n9Wzb4iG"
      }
    },
    {
      "cell_type": "code",
      "execution_count": 1,
      "metadata": {
        "id": "RdDjZQpJb2Kh"
      },
      "outputs": [],
      "source": [
        "import openpyxl\n"
      ]
    },
    {
      "cell_type": "code",
      "source": [
        "#uploading data into online notebook\n",
        "from google.colab import files        \n",
        "uploaded = files.upload()"
      ],
      "metadata": {
        "colab": {
          "base_uri": "https://localhost:8080/",
          "height": 73
        },
        "id": "B23HSkOaiXBU",
        "outputId": "aa4aab06-bef3-4774-b6f7-ab1487d2f2a6"
      },
      "execution_count": 2,
      "outputs": [
        {
          "output_type": "display_data",
          "data": {
            "text/plain": [
              "<IPython.core.display.HTML object>"
            ],
            "text/html": [
              "\n",
              "     <input type=\"file\" id=\"files-57dffe6c-e493-4b9b-9b33-08874ea0d4ce\" name=\"files[]\" multiple disabled\n",
              "        style=\"border:none\" />\n",
              "     <output id=\"result-57dffe6c-e493-4b9b-9b33-08874ea0d4ce\">\n",
              "      Upload widget is only available when the cell has been executed in the\n",
              "      current browser session. Please rerun this cell to enable.\n",
              "      </output>\n",
              "      <script>// Copyright 2017 Google LLC\n",
              "//\n",
              "// Licensed under the Apache License, Version 2.0 (the \"License\");\n",
              "// you may not use this file except in compliance with the License.\n",
              "// You may obtain a copy of the License at\n",
              "//\n",
              "//      http://www.apache.org/licenses/LICENSE-2.0\n",
              "//\n",
              "// Unless required by applicable law or agreed to in writing, software\n",
              "// distributed under the License is distributed on an \"AS IS\" BASIS,\n",
              "// WITHOUT WARRANTIES OR CONDITIONS OF ANY KIND, either express or implied.\n",
              "// See the License for the specific language governing permissions and\n",
              "// limitations under the License.\n",
              "\n",
              "/**\n",
              " * @fileoverview Helpers for google.colab Python module.\n",
              " */\n",
              "(function(scope) {\n",
              "function span(text, styleAttributes = {}) {\n",
              "  const element = document.createElement('span');\n",
              "  element.textContent = text;\n",
              "  for (const key of Object.keys(styleAttributes)) {\n",
              "    element.style[key] = styleAttributes[key];\n",
              "  }\n",
              "  return element;\n",
              "}\n",
              "\n",
              "// Max number of bytes which will be uploaded at a time.\n",
              "const MAX_PAYLOAD_SIZE = 100 * 1024;\n",
              "\n",
              "function _uploadFiles(inputId, outputId) {\n",
              "  const steps = uploadFilesStep(inputId, outputId);\n",
              "  const outputElement = document.getElementById(outputId);\n",
              "  // Cache steps on the outputElement to make it available for the next call\n",
              "  // to uploadFilesContinue from Python.\n",
              "  outputElement.steps = steps;\n",
              "\n",
              "  return _uploadFilesContinue(outputId);\n",
              "}\n",
              "\n",
              "// This is roughly an async generator (not supported in the browser yet),\n",
              "// where there are multiple asynchronous steps and the Python side is going\n",
              "// to poll for completion of each step.\n",
              "// This uses a Promise to block the python side on completion of each step,\n",
              "// then passes the result of the previous step as the input to the next step.\n",
              "function _uploadFilesContinue(outputId) {\n",
              "  const outputElement = document.getElementById(outputId);\n",
              "  const steps = outputElement.steps;\n",
              "\n",
              "  const next = steps.next(outputElement.lastPromiseValue);\n",
              "  return Promise.resolve(next.value.promise).then((value) => {\n",
              "    // Cache the last promise value to make it available to the next\n",
              "    // step of the generator.\n",
              "    outputElement.lastPromiseValue = value;\n",
              "    return next.value.response;\n",
              "  });\n",
              "}\n",
              "\n",
              "/**\n",
              " * Generator function which is called between each async step of the upload\n",
              " * process.\n",
              " * @param {string} inputId Element ID of the input file picker element.\n",
              " * @param {string} outputId Element ID of the output display.\n",
              " * @return {!Iterable<!Object>} Iterable of next steps.\n",
              " */\n",
              "function* uploadFilesStep(inputId, outputId) {\n",
              "  const inputElement = document.getElementById(inputId);\n",
              "  inputElement.disabled = false;\n",
              "\n",
              "  const outputElement = document.getElementById(outputId);\n",
              "  outputElement.innerHTML = '';\n",
              "\n",
              "  const pickedPromise = new Promise((resolve) => {\n",
              "    inputElement.addEventListener('change', (e) => {\n",
              "      resolve(e.target.files);\n",
              "    });\n",
              "  });\n",
              "\n",
              "  const cancel = document.createElement('button');\n",
              "  inputElement.parentElement.appendChild(cancel);\n",
              "  cancel.textContent = 'Cancel upload';\n",
              "  const cancelPromise = new Promise((resolve) => {\n",
              "    cancel.onclick = () => {\n",
              "      resolve(null);\n",
              "    };\n",
              "  });\n",
              "\n",
              "  // Wait for the user to pick the files.\n",
              "  const files = yield {\n",
              "    promise: Promise.race([pickedPromise, cancelPromise]),\n",
              "    response: {\n",
              "      action: 'starting',\n",
              "    }\n",
              "  };\n",
              "\n",
              "  cancel.remove();\n",
              "\n",
              "  // Disable the input element since further picks are not allowed.\n",
              "  inputElement.disabled = true;\n",
              "\n",
              "  if (!files) {\n",
              "    return {\n",
              "      response: {\n",
              "        action: 'complete',\n",
              "      }\n",
              "    };\n",
              "  }\n",
              "\n",
              "  for (const file of files) {\n",
              "    const li = document.createElement('li');\n",
              "    li.append(span(file.name, {fontWeight: 'bold'}));\n",
              "    li.append(span(\n",
              "        `(${file.type || 'n/a'}) - ${file.size} bytes, ` +\n",
              "        `last modified: ${\n",
              "            file.lastModifiedDate ? file.lastModifiedDate.toLocaleDateString() :\n",
              "                                    'n/a'} - `));\n",
              "    const percent = span('0% done');\n",
              "    li.appendChild(percent);\n",
              "\n",
              "    outputElement.appendChild(li);\n",
              "\n",
              "    const fileDataPromise = new Promise((resolve) => {\n",
              "      const reader = new FileReader();\n",
              "      reader.onload = (e) => {\n",
              "        resolve(e.target.result);\n",
              "      };\n",
              "      reader.readAsArrayBuffer(file);\n",
              "    });\n",
              "    // Wait for the data to be ready.\n",
              "    let fileData = yield {\n",
              "      promise: fileDataPromise,\n",
              "      response: {\n",
              "        action: 'continue',\n",
              "      }\n",
              "    };\n",
              "\n",
              "    // Use a chunked sending to avoid message size limits. See b/62115660.\n",
              "    let position = 0;\n",
              "    do {\n",
              "      const length = Math.min(fileData.byteLength - position, MAX_PAYLOAD_SIZE);\n",
              "      const chunk = new Uint8Array(fileData, position, length);\n",
              "      position += length;\n",
              "\n",
              "      const base64 = btoa(String.fromCharCode.apply(null, chunk));\n",
              "      yield {\n",
              "        response: {\n",
              "          action: 'append',\n",
              "          file: file.name,\n",
              "          data: base64,\n",
              "        },\n",
              "      };\n",
              "\n",
              "      let percentDone = fileData.byteLength === 0 ?\n",
              "          100 :\n",
              "          Math.round((position / fileData.byteLength) * 100);\n",
              "      percent.textContent = `${percentDone}% done`;\n",
              "\n",
              "    } while (position < fileData.byteLength);\n",
              "  }\n",
              "\n",
              "  // All done.\n",
              "  yield {\n",
              "    response: {\n",
              "      action: 'complete',\n",
              "    }\n",
              "  };\n",
              "}\n",
              "\n",
              "scope.google = scope.google || {};\n",
              "scope.google.colab = scope.google.colab || {};\n",
              "scope.google.colab._files = {\n",
              "  _uploadFiles,\n",
              "  _uploadFilesContinue,\n",
              "};\n",
              "})(self);\n",
              "</script> "
            ]
          },
          "metadata": {}
        },
        {
          "output_type": "stream",
          "name": "stdout",
          "text": [
            "Saving original.xlsx to original.xlsx\n"
          ]
        }
      ]
    },
    {
      "cell_type": "markdown",
      "source": [
        "# Opening the original spreadsheet"
      ],
      "metadata": {
        "id": "1AZjp8jicOha"
      }
    },
    {
      "cell_type": "code",
      "source": [
        "wb = openpyxl.load_workbook('original.xlsx')\n",
        "sheet = wb.active\n"
      ],
      "metadata": {
        "id": "fhW-6NHicUdi"
      },
      "execution_count": 3,
      "outputs": []
    },
    {
      "cell_type": "markdown",
      "source": [
        "# Creating a dictionary to store the total quantity of each fruit"
      ],
      "metadata": {
        "id": "10Dbv_kxculA"
      }
    },
    {
      "cell_type": "code",
      "source": [
        "fruit_totals = {}\n"
      ],
      "metadata": {
        "id": "zTMA3tPwcyNV"
      },
      "execution_count": 4,
      "outputs": []
    },
    {
      "cell_type": "markdown",
      "source": [
        "# Iterating over each row in the spreadsheet and adding the quantity to the total for that fruit"
      ],
      "metadata": {
        "id": "9pm_dYjUcz2P"
      }
    },
    {
      "cell_type": "code",
      "source": [
        "for row in sheet.iter_rows(min_row=2, values_only=True):\n",
        "    fruit = row[0]\n",
        "    quantity = row[1]\n",
        "    if fruit in fruit_totals:\n",
        "        fruit_totals[fruit] += quantity\n",
        "    else:\n",
        "        fruit_totals[fruit] = quantity\n"
      ],
      "metadata": {
        "id": "u8A22qs6c8A5"
      },
      "execution_count": 5,
      "outputs": []
    },
    {
      "cell_type": "markdown",
      "source": [
        "# Creating a new workbook and sheet to store the results"
      ],
      "metadata": {
        "id": "rKe2FDO6c26K"
      }
    },
    {
      "cell_type": "code",
      "source": [
        "new_wb = openpyxl.Workbook()\n",
        "new_sheet = new_wb.active\n",
        "new_sheet.title = 'Fruit Totals'\n"
      ],
      "metadata": {
        "id": "4rNax0iFdDHb"
      },
      "execution_count": 6,
      "outputs": []
    },
    {
      "cell_type": "markdown",
      "source": [
        "# Writing the header row"
      ],
      "metadata": {
        "id": "Mzq61S6bdIvz"
      }
    },
    {
      "cell_type": "code",
      "source": [
        "new_sheet.cell(row=1, column=1, value='Fruit')\n",
        "new_sheet.cell(row=1, column=2, value='Total Quantity')\n"
      ],
      "metadata": {
        "colab": {
          "base_uri": "https://localhost:8080/"
        },
        "id": "s2aovNyJdJ_b",
        "outputId": "3aa05ed8-9d12-4b64-b551-ae375aa4e029"
      },
      "execution_count": 7,
      "outputs": [
        {
          "output_type": "execute_result",
          "data": {
            "text/plain": [
              "<Cell 'Fruit Totals'.B1>"
            ]
          },
          "metadata": {},
          "execution_count": 7
        }
      ]
    },
    {
      "cell_type": "markdown",
      "source": [
        "# Writing the fruit and total quantity to each row"
      ],
      "metadata": {
        "id": "mpWpN4_udLVS"
      }
    },
    {
      "cell_type": "code",
      "source": [
        "row_num = 2\n",
        "for fruit, total in fruit_totals.items():\n",
        "    new_sheet.cell(row=row_num, column=1, value=fruit)\n",
        "    new_sheet.cell(row=row_num, column=2, value=total)\n",
        "    row_num += 1\n"
      ],
      "metadata": {
        "id": "DVuFKRwmdNw9"
      },
      "execution_count": 8,
      "outputs": []
    },
    {
      "cell_type": "markdown",
      "source": [
        "# Saving the new spreadsheet"
      ],
      "metadata": {
        "id": "0TH491rwdPF9"
      }
    },
    {
      "cell_type": "code",
      "source": [
        "new_wb.save('fruit_totals.xlsx')\n"
      ],
      "metadata": {
        "id": "CTgnD3dQdSEN"
      },
      "execution_count": 9,
      "outputs": []
    },
    {
      "cell_type": "code",
      "source": [
        "print(new_wb)"
      ],
      "metadata": {
        "colab": {
          "base_uri": "https://localhost:8080/"
        },
        "id": "CZ4wBYpzknUx",
        "outputId": "501fe4cc-d823-4203-a2b1-8dc6dc1b4651"
      },
      "execution_count": 11,
      "outputs": [
        {
          "output_type": "stream",
          "name": "stdout",
          "text": [
            "<openpyxl.workbook.workbook.Workbook object at 0x7f3495162050>\n"
          ]
        }
      ]
    },
    {
      "cell_type": "markdown",
      "source": [
        "AKULA ZAHEER SHA\n",
        "\n",
        "---\n",
        "\n",
        "\n",
        "a.zaheersha@gmail.com\n",
        "\n",
        "---\n",
        "\n",
        "\n",
        "9494333702"
      ],
      "metadata": {
        "id": "3ecd3NYek_IN"
      }
    }
  ]
}