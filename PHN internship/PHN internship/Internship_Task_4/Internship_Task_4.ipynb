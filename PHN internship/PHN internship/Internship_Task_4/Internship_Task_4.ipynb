{
  "nbformat": 4,
  "nbformat_minor": 0,
  "metadata": {
    "colab": {
      "provenance": []
    },
    "kernelspec": {
      "name": "python3",
      "display_name": "Python 3"
    },
    "language_info": {
      "name": "python"
    }
  },
  "cells": [
    {
      "cell_type": "markdown",
      "source": [
        "# Write a Python program using NumPy to perform the following tasks on a given array:\n",
        "1. Create a NumPy array with the following values: [1, 2, 3, 4, 5].\n",
        "2. Print the shape of the array using the .shape attribute.\n",
        "3. Reshape the array into a 2D array with 2 rows and 3 columns.\n",
        "4. Print the shape of the new array.\n",
        "5. Create a second NumPy array with the following values: [6, 7, 8, 9, 10].\n",
        "6. Concatenate the two arrays together horizontally.\n",
        "7. Print the resulting array.\n",
        "8. Compute the resulting array's mean, median, and standard deviation."
      ],
      "metadata": {
        "id": "cfYoC9Qf_gfK"
      }
    },
    {
      "cell_type": "markdown",
      "source": [
        "**1. Create a NumPy array with the following values: [1, 2, 3, 4, 5].**"
      ],
      "metadata": {
        "id": "vH_Ua71d_gHl"
      }
    },
    {
      "cell_type": "code",
      "source": [
        "import numpy as np\n",
        "\n",
        "arr1 = np.array([1, 2, 3, 4, 5])\n",
        "print(arr1)"
      ],
      "metadata": {
        "colab": {
          "base_uri": "https://localhost:8080/"
        },
        "id": "1ZVSO-C1ACcu",
        "outputId": "d8eccca6-9a22-4fe6-b430-da9d8916bda9"
      },
      "execution_count": 1,
      "outputs": [
        {
          "output_type": "stream",
          "name": "stdout",
          "text": [
            "[1 2 3 4 5]\n"
          ]
        }
      ]
    },
    {
      "cell_type": "markdown",
      "source": [
        "**2. Print the shape of the array using the .shape attribute.**"
      ],
      "metadata": {
        "id": "ICnjQbdb_siB"
      }
    },
    {
      "cell_type": "code",
      "source": [
        "print(arr1.shape)"
      ],
      "metadata": {
        "colab": {
          "base_uri": "https://localhost:8080/"
        },
        "id": "GWNswhYUAIYw",
        "outputId": "49661fb3-d8bd-435f-d38a-f09aa576677f"
      },
      "execution_count": 2,
      "outputs": [
        {
          "output_type": "stream",
          "name": "stdout",
          "text": [
            "(5,)\n"
          ]
        }
      ]
    },
    {
      "cell_type": "markdown",
      "source": [
        "**3. Reshape the array into a 2D array with 2 rows and 3 columns.**"
      ],
      "metadata": {
        "id": "QNT9HetF_vkQ"
      }
    },
    {
      "cell_type": "code",
      "source": [
        "arr2 = arr1.reshape(2, 3)\n",
        "print(arr2)\n"
      ],
      "metadata": {
        "colab": {
          "base_uri": "https://localhost:8080/"
        },
        "id": "-mVll7yLALw2",
        "outputId": "7fadc276-3fcc-4d83-d963-da99e81eeae6"
      },
      "execution_count": 8,
      "outputs": [
        {
          "output_type": "stream",
          "name": "stdout",
          "text": [
            "[[1 2 3]\n",
            " [4 5 6]]\n"
          ]
        }
      ]
    },
    {
      "cell_type": "markdown",
      "source": [
        "**4. Print the shape of the new array.**"
      ],
      "metadata": {
        "id": "ltrkQoBh_yyh"
      }
    },
    {
      "cell_type": "code",
      "source": [
        "print(arr2.shape)"
      ],
      "metadata": {
        "id": "H-zXDI5oD2k2",
        "outputId": "260b1bfb-1a5a-4a67-8d88-1b67729f82d3",
        "colab": {
          "base_uri": "https://localhost:8080/"
        }
      },
      "execution_count": 23,
      "outputs": [
        {
          "output_type": "stream",
          "name": "stdout",
          "text": [
            "(2, 3)\n"
          ]
        }
      ]
    },
    {
      "cell_type": "markdown",
      "source": [
        "**5. Create a second NumPy array with the following values: [6, 7, 8, 9, 10].**"
      ],
      "metadata": {
        "id": "h9CLbDcU_1rt"
      }
    },
    {
      "cell_type": "code",
      "source": [
        "arr3 = np.array([6, 7, 8, 9, 10])"
      ],
      "metadata": {
        "id": "stxWhTqUD-8W"
      },
      "execution_count": 24,
      "outputs": []
    },
    {
      "cell_type": "markdown",
      "source": [
        "**6. Concatenate the two arrays together horizontally.**\n",
        "\n"
      ],
      "metadata": {
        "id": "zM7-FuCy_4_G"
      }
    },
    {
      "cell_type": "code",
      "source": [
        "arr4 = np.concatenate((arr2_reshaped, arr3_reshaped), axis=1)\n",
        "print(arr4)"
      ],
      "metadata": {
        "id": "oJE_VVX2EBsu",
        "outputId": "c643ae18-6b39-4e91-fdf6-e19f21074cd1",
        "colab": {
          "base_uri": "https://localhost:8080/"
        }
      },
      "execution_count": 30,
      "outputs": [
        {
          "output_type": "stream",
          "name": "stdout",
          "text": [
            "[[ 1  2  3  4  5  6  6  7  8  9 10]]\n"
          ]
        }
      ]
    },
    {
      "cell_type": "markdown",
      "source": [
        "**7. Print the resulting array.**"
      ],
      "metadata": {
        "id": "vS_tfvzC_7bd"
      }
    },
    {
      "cell_type": "code",
      "source": [
        "print(arr4)"
      ],
      "metadata": {
        "id": "BqJBBRtZEkrr",
        "outputId": "475f3d43-30fd-4b37-9288-f3416a99488f",
        "colab": {
          "base_uri": "https://localhost:8080/"
        }
      },
      "execution_count": 31,
      "outputs": [
        {
          "output_type": "stream",
          "name": "stdout",
          "text": [
            "[[ 1  2  3  4  5  6  6  7  8  9 10]]\n"
          ]
        }
      ]
    },
    {
      "cell_type": "markdown",
      "source": [
        "**8. Compute the resulting array's mean, median, and standard deviation.**"
      ],
      "metadata": {
        "id": "wiLDHPxy_-bd"
      }
    },
    {
      "cell_type": "code",
      "source": [
        "print(\"Mean: \", np.mean(arr4))\n",
        "print(\"Median: \", np.median(arr4))\n",
        "print(\"Standard Deviation: \", np.std(arr4))\n"
      ],
      "metadata": {
        "id": "fV-_bQq_EmeT",
        "outputId": "c5ce61d5-d9fe-47b9-9834-d2595af6e995",
        "colab": {
          "base_uri": "https://localhost:8080/"
        }
      },
      "execution_count": 32,
      "outputs": [
        {
          "output_type": "stream",
          "name": "stdout",
          "text": [
            "Mean:  5.545454545454546\n",
            "Median:  6.0\n",
            "Standard Deviation:  2.74238238709061\n"
          ]
        }
      ]
    },
    {
      "cell_type": "markdown",
      "source": [
        "# **Complete code**"
      ],
      "metadata": {
        "id": "gmqYFYQgEquE"
      }
    },
    {
      "cell_type": "code",
      "source": [
        "\n",
        "import numpy as np\n",
        "\n",
        "arr1 = np.array([1, 2, 3, 4, 5, 6])\n",
        "print(\"Array 1 :\",arr1)\n",
        "print(\"Shape of arr1:\", arr1.shape)\n",
        "\n",
        "arr2 = arr1.reshape(2, 3)\n",
        "print(\"Shape of arr2:\", arr2.shape)\n",
        "print(\"Array 2 :\",arr2)\n",
        "\n",
        "arr3 = np.array([6, 7, 8, 9, 10])\n",
        "print(\"Array 3 :\",arr3)\n",
        "\n",
        "arr4 = np.concatenate((arr2_reshaped, arr3_reshaped), axis=1)\n",
        "print(\"Concatenated array:\", arr4)\n",
        "\n",
        "print(\"Mean:\", np.mean(arr4))\n",
        "print(\"Median:\", np.median(arr4))\n",
        "print(\"Standard deviation:\", np.std(arr4))\n"
      ],
      "metadata": {
        "id": "0KW2aCzVExcJ",
        "outputId": "66333da8-4065-4433-baf1-2cae2031c602",
        "colab": {
          "base_uri": "https://localhost:8080/"
        }
      },
      "execution_count": 44,
      "outputs": [
        {
          "output_type": "stream",
          "name": "stdout",
          "text": [
            "Array 1 : [1 2 3 4 5 6]\n",
            "Shape of arr1: (6,)\n",
            "Shape of arr2: (2, 3)\n",
            "Array 2 : [[1 2 3]\n",
            " [4 5 6]]\n",
            "Array 3 : [ 6  7  8  9 10]\n",
            "Concatenated array: [[ 1  2  3  4  5  6  6  7  8  9 10]]\n",
            "Mean: 5.545454545454546\n",
            "Median: 6.0\n",
            "Standard deviation: 2.74238238709061\n"
          ]
        }
      ]
    },
    {
      "cell_type": "markdown",
      "source": [
        "AKULA ZAHEER SHA \n",
        "\n",
        "---\n",
        "\n",
        "\n",
        "a.zaheersha@gmail.com\n",
        "\n",
        "---\n",
        "\n",
        "\n",
        "9494333702"
      ],
      "metadata": {
        "id": "Zosk_DntGmKk"
      }
    }
  ]
}