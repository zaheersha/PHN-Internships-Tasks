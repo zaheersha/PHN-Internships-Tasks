{
  "cells": [
    {
      "cell_type": "markdown",
      "metadata": {
        "id": "OYas0rv03vrD"
      },
      "source": [
        "# 1. Prepare the Titanic dataset file (download it from Google)\n",
        "# 2. Find out the names of passengers younger than 35 years.\n",
        "# 3. Print the rows from index 10 to 25 and columns 3 to 5\n",
        "# 4. Find out the statistics aggregate of Age & Fare using the DataFrame.agg() method\n",
        "# 5. Find out the mean ticket fare price for each of the sex and cabin class combinations"
      ]
    },
    {
      "cell_type": "code",
      "execution_count": 2,
      "metadata": {
        "id": "7IcahoJArkWc"
      },
      "outputs": [],
      "source": [
        "import pandas as pd"
      ]
    },
    {
      "cell_type": "code",
      "execution_count": 3,
      "metadata": {
        "colab": {
          "base_uri": "https://localhost:8080/",
          "height": 73
        },
        "id": "STwaNOkor0xa",
        "outputId": "ad032af0-a972-4840-b212-d297fe06fab3"
      },
      "outputs": [
        {
          "ename": "ModuleNotFoundError",
          "evalue": "No module named 'google.colab'",
          "output_type": "error",
          "traceback": [
            "\u001b[1;31m---------------------------------------------------------------------------\u001b[0m",
            "\u001b[1;31mModuleNotFoundError\u001b[0m                       Traceback (most recent call last)",
            "\u001b[1;32mc:\\Users\\azahe\\Desktop\\PHN internship\\ML & DS with python Assessment 2\\ML_&_DS_with_Python_Task_2.ipynb Cell 3\u001b[0m in \u001b[0;36m<cell line: 2>\u001b[1;34m()\u001b[0m\n\u001b[0;32m      <a href='vscode-notebook-cell:/c%3A/Users/azahe/Desktop/PHN%20internship/ML%20%26%20DS%20with%20python%20Assessment%202/ML_%26_DS_with_Python_Task_2.ipynb#W2sZmlsZQ%3D%3D?line=0'>1</a>\u001b[0m \u001b[39m#uploading data into online notebook\u001b[39;00m\n\u001b[1;32m----> <a href='vscode-notebook-cell:/c%3A/Users/azahe/Desktop/PHN%20internship/ML%20%26%20DS%20with%20python%20Assessment%202/ML_%26_DS_with_Python_Task_2.ipynb#W2sZmlsZQ%3D%3D?line=1'>2</a>\u001b[0m \u001b[39mfrom\u001b[39;00m \u001b[39mgoogle\u001b[39;00m\u001b[39m.\u001b[39;00m\u001b[39mcolab\u001b[39;00m \u001b[39mimport\u001b[39;00m files        \n\u001b[0;32m      <a href='vscode-notebook-cell:/c%3A/Users/azahe/Desktop/PHN%20internship/ML%20%26%20DS%20with%20python%20Assessment%202/ML_%26_DS_with_Python_Task_2.ipynb#W2sZmlsZQ%3D%3D?line=2'>3</a>\u001b[0m uploaded \u001b[39m=\u001b[39m files\u001b[39m.\u001b[39mupload()\n",
            "\u001b[1;31mModuleNotFoundError\u001b[0m: No module named 'google.colab'"
          ]
        }
      ],
      "source": [
        "#uploading data into online notebook\n",
        "from google.colab import files        \n",
        "uploaded = files.upload()"
      ]
    },
    {
      "cell_type": "code",
      "execution_count": 4,
      "metadata": {
        "id": "pcjzGM__sAbx"
      },
      "outputs": [],
      "source": [
        "#Load the Titanic dataset\n",
        "df = pd.read_excel(\"titanic3.xls\")"
      ]
    },
    {
      "cell_type": "code",
      "execution_count": 5,
      "metadata": {
        "colab": {
          "base_uri": "https://localhost:8080/"
        },
        "id": "I7LjnDpW05f2",
        "outputId": "41806583-0888-4ffe-932b-9de583afd9d3"
      },
      "outputs": [
        {
          "name": "stdout",
          "output_type": "stream",
          "text": [
            "   pclass  survived                                             name     sex  \\\n",
            "0       1         1                    Allen, Miss. Elisabeth Walton  female   \n",
            "1       1         1                   Allison, Master. Hudson Trevor    male   \n",
            "2       1         0                     Allison, Miss. Helen Loraine  female   \n",
            "3       1         0             Allison, Mr. Hudson Joshua Creighton    male   \n",
            "4       1         0  Allison, Mrs. Hudson J C (Bessie Waldo Daniels)  female   \n",
            "\n",
            "       age  sibsp  parch  ticket      fare    cabin embarked boat   body  \\\n",
            "0  29.0000      0      0   24160  211.3375       B5        S    2    NaN   \n",
            "1   0.9167      1      2  113781  151.5500  C22 C26        S   11    NaN   \n",
            "2   2.0000      1      2  113781  151.5500  C22 C26        S  NaN    NaN   \n",
            "3  30.0000      1      2  113781  151.5500  C22 C26        S  NaN  135.0   \n",
            "4  25.0000      1      2  113781  151.5500  C22 C26        S  NaN    NaN   \n",
            "\n",
            "                         home.dest  \n",
            "0                     St Louis, MO  \n",
            "1  Montreal, PQ / Chesterville, ON  \n",
            "2  Montreal, PQ / Chesterville, ON  \n",
            "3  Montreal, PQ / Chesterville, ON  \n",
            "4  Montreal, PQ / Chesterville, ON  \n"
          ]
        }
      ],
      "source": [
        "#Print the first 5 rows of the DataFrame\n",
        "print(df.head())"
      ]
    },
    {
      "cell_type": "code",
      "execution_count": 7,
      "metadata": {
        "colab": {
          "base_uri": "https://localhost:8080/"
        },
        "id": "f83KL1GmsEGr",
        "outputId": "b4941039-4034-4c1f-ac94-b9fd9ff4221f"
      },
      "outputs": [
        {
          "name": "stdout",
          "output_type": "stream",
          "text": [
            "['Allen, Miss. Elisabeth Walton', 'Allison, Master. Hudson Trevor', 'Allison, Miss. Helen Loraine', 'Allison, Mr. Hudson Joshua Creighton', 'Allison, Mrs. Hudson J C (Bessie Waldo Daniels)', 'Astor, Mrs. John Jacob (Madeleine Talmadge Force)', 'Aubart, Mme. Leontine Pauline', 'Barber, Miss. Ellen \"Nellie\"', 'Baxter, Mr. Quigg Edmond', 'Bazzani, Miss. Albina', 'Behr, Mr. Karl Howell', 'Bird, Miss. Ellen', 'Birnbaum, Mr. Jakob', 'Bishop, Mr. Dickinson H', 'Bishop, Mrs. Dickinson H (Helen Walton)', 'Bjornstrom-Steffansson, Mr. Mauritz Hakan', 'Bonnell, Miss. Caroline', 'Bowerman, Miss. Elsie Edith']\n"
          ]
        }
      ],
      "source": [
        "#Find out the names of passengers younger than 35 years\n",
        "young_passengers = df[df['age'] < 35]['name'].tolist()\n",
        "print(young_passengers)"
      ]
    },
    {
      "cell_type": "code",
      "execution_count": 8,
      "metadata": {
        "colab": {
          "base_uri": "https://localhost:8080/"
        },
        "id": "iSo7xWkesGTa",
        "outputId": "e58958a2-da2a-498e-dcc6-74c2a32a362b"
      },
      "outputs": [
        {
          "name": "stdout",
          "output_type": "stream",
          "text": [
            "       sex   age  sibsp\n",
            "10    male  47.0      1\n",
            "11  female  18.0      1\n",
            "12  female  24.0      0\n",
            "13  female  26.0      0\n",
            "14    male  80.0      0\n",
            "15    male   NaN      0\n",
            "16    male  24.0      0\n",
            "17  female  50.0      0\n",
            "18  female  32.0      0\n",
            "19    male  36.0      0\n",
            "20    male  37.0      1\n",
            "21  female  47.0      1\n",
            "22    male  26.0      0\n",
            "23  female  42.0      0\n",
            "24  female  29.0      0\n",
            "25    male  25.0      0\n"
          ]
        }
      ],
      "source": [
        "#Print the rows from index 10 to 25 and columns 3 to 5\n",
        "subset_df = df.iloc[10:26, 3:6]\n",
        "print(subset_df)"
      ]
    },
    {
      "cell_type": "code",
      "execution_count": 9,
      "metadata": {
        "colab": {
          "base_uri": "https://localhost:8080/"
        },
        "id": "AKrBn0O1sR2N",
        "outputId": "74c3c611-bceb-4c3e-e8da-071cd5a6e723"
      },
      "outputs": [
        {
          "name": "stdout",
          "output_type": "stream",
          "text": [
            "              age        fare\n",
            "min      0.916700    0.000000\n",
            "max     80.000000  262.375000\n",
            "mean    36.051803  101.086544\n",
            "median  35.000000   75.241700\n",
            "std     16.522492   80.801215\n"
          ]
        }
      ],
      "source": [
        "#Find out the statistics aggregate of Age & Fare using the DataFrame.agg() method\n",
        "agg_df = df[['age', 'fare']].agg(['min', 'max', 'mean', 'median', 'std'])\n",
        "print(agg_df)"
      ]
    },
    {
      "cell_type": "code",
      "execution_count": 12,
      "metadata": {
        "colab": {
          "base_uri": "https://localhost:8080/"
        },
        "id": "po2hsR_ysUZY",
        "outputId": "79246a0c-ff2e-4fcd-cf92-3484f7e6f7a9"
      },
      "outputs": [
        {
          "name": "stdout",
          "output_type": "stream",
          "text": [
            "sex     pclass\n",
            "female  1         135.827637\n",
            "male    1          68.082505\n",
            "Name: fare, dtype: float64\n"
          ]
        }
      ],
      "source": [
        "#Find out the mean ticket fare price for each of the sex and cabin class combinations\n",
        "fare_means = df.groupby(['sex', 'pclass'])['fare'].mean()\n",
        "print(fare_means)"
      ]
    },
    {
      "cell_type": "code",
      "execution_count": 1,
      "metadata": {},
      "outputs": [
        {
          "ename": "NameError",
          "evalue": "name 'df' is not defined",
          "output_type": "error",
          "traceback": [
            "\u001b[1;31m---------------------------------------------------------------------------\u001b[0m",
            "\u001b[1;31mNameError\u001b[0m                                 Traceback (most recent call last)",
            "\u001b[1;32mc:\\Users\\azahe\\Desktop\\PHN internship\\ML & DS with python Assessment 2\\ML_&_DS_with_Python_Task_2.ipynb Cell 10\u001b[0m in \u001b[0;36m<cell line: 2>\u001b[1;34m()\u001b[0m\n\u001b[0;32m      <a href='vscode-notebook-cell:/c%3A/Users/azahe/Desktop/PHN%20internship/ML%20%26%20DS%20with%20python%20Assessment%202/ML_%26_DS_with_Python_Task_2.ipynb#X14sZmlsZQ%3D%3D?line=0'>1</a>\u001b[0m \u001b[39m#finding the pclass passangers have 2 and 3 then\u001b[39;00m\n\u001b[1;32m----> <a href='vscode-notebook-cell:/c%3A/Users/azahe/Desktop/PHN%20internship/ML%20%26%20DS%20with%20python%20Assessment%202/ML_%26_DS_with_Python_Task_2.ipynb#X14sZmlsZQ%3D%3D?line=1'>2</a>\u001b[0m class_23\u001b[39m=\u001b[39mdf[df[\u001b[39m\"\u001b[39m\u001b[39mpclass\u001b[39m\u001b[39m\"\u001b[39m]\u001b[39m.\u001b[39misin([\u001b[39m2\u001b[39m,\u001b[39m3\u001b[39m])]\n",
            "\u001b[1;31mNameError\u001b[0m: name 'df' is not defined"
          ]
        }
      ],
      "source": [
        "#one way of filtering \n",
        "#finding the pclass passangers have 2 and 3 then\n",
        "class_23=df[df[\"pclass\"].isin([2,3])]\n",
        "print(class_23)\n",
        "print(class_23.shape)"
      ]
    },
    {
      "cell_type": "code",
      "execution_count": null,
      "metadata": {},
      "outputs": [],
      "source": [
        "# How to work with known and unknown values\n",
        "age_no_na = df[df[\"age\"].notna()]\n",
        "print(age_no_na)\n",
        "print(age_no_na.shape)"
      ]
    },
    {
      "cell_type": "code",
      "execution_count": null,
      "metadata": {},
      "outputs": [],
      "source": [
        "#work with unknown data\n",
        "age_na=df[df[\"age\"].isna()]\n",
        "print(age_na)\n",
        "print(age_na.shape)"
      ]
    },
    {
      "cell_type": "code",
      "execution_count": null,
      "metadata": {},
      "outputs": [],
      "source": [
        "#how to calculate the summary statistics\n",
        "#mean\n",
        "age_avg=df[df[\"age\"].mean()]\n",
        "print(age_avg)\n",
        "#median of age & fare\n",
        "age_fare_M = df[df[\"age\",\"fare\"]].median()\n",
        "print(age_fare_M)\n"
      ]
    },
    {
      "cell_type": "code",
      "execution_count": 4,
      "metadata": {},
      "outputs": [],
      "source": [
        "#how to calculate the summary statistics\n",
        "#mean,  std,    min,    25%,    50% ,   75%,    max,     count\n",
        "age_fare_M=df[df[\"age\",\"fare\"]].describe()\n",
        "print(age_fare_M)"
      ]
    },
    {
      "cell_type": "markdown",
      "metadata": {
        "id": "D0m2YH254ELU"
      },
      "source": [
        "**Akula Zaheer Sha**\n",
        "\n",
        "---\n",
        "\n",
        "\n",
        "**a.zaheersha@gmail.com**\n",
        "\n",
        "---\n",
        "\n",
        "**9494333702**"
      ]
    }
  ],
  "metadata": {
    "colab": {
      "provenance": []
    },
    "kernelspec": {
      "display_name": "Python 3",
      "name": "python3"
    },
    "language_info": {
      "codemirror_mode": {
        "name": "ipython",
        "version": 3
      },
      "file_extension": ".py",
      "mimetype": "text/x-python",
      "name": "python",
      "nbconvert_exporter": "python",
      "pygments_lexer": "ipython3",
      "version": "3.10.5"
    }
  },
  "nbformat": 4,
  "nbformat_minor": 0
}
