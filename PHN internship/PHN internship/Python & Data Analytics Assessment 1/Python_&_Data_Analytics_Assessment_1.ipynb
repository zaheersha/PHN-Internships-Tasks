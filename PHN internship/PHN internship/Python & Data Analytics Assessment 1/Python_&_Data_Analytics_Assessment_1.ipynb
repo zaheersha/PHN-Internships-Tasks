{
  "nbformat": 4,
  "nbformat_minor": 0,
  "metadata": {
    "colab": {
      "provenance": []
    },
    "kernelspec": {
      "name": "python3",
      "display_name": "Python 3"
    },
    "language_info": {
      "name": "python"
    }
  },
  "cells": [
    {
      "cell_type": "markdown",
      "source": [
        "\n",
        "\n",
        "> Python & Data Analytics Assessment 1\n",
        "\n",
        "\n",
        "\n",
        "\n",
        "\n",
        "\n"
      ],
      "metadata": {
        "id": "m4kB0_x9W8Q_"
      }
    },
    {
      "cell_type": "markdown",
      "source": [
        "1.   Prepare the sample csv file for car model and their specification, the column names would be\n",
        "a. Company Name\n",
        "b. Model Name\n",
        "c. Fuel Type (For e.g. Petrol, Gas, Diesel, EV)\n",
        "d. Body Style (for e.g. Hatchback, Sedan, SUV)\n",
        "e. Car Length.\n",
        "\n",
        "---\n",
        "\n",
        "2. Prepare the sample excel file for the car prizing and loan amount, the column names would be\n",
        "a. Company Name\n",
        "b. Model Name\n",
        "c. On road pricing\n",
        "d. Loan amount\n",
        "e. Monthly EMI\n",
        "f. Interest Rate\n",
        "g. Monthly Principal\n",
        "h. Monthly Interest\n",
        "\n",
        "---\n",
        "\n",
        "\n",
        "3. Write the code to read the csv file and the excel file and convert them into the Data frame.\n",
        "\n",
        "---\n",
        "\n",
        "\n",
        "4. Merge the two Data frame on the basis of primary key\n",
        "\n",
        "---\n",
        "\n",
        "\n",
        "5. Fill the “NA” values in the merged data frame\n",
        "\n",
        "---\n",
        "\n",
        "\n",
        "6. Iterate over the merged Data frame and add the GST value in the “On road pricing” column\n",
        "\n",
        "---\n",
        "\n"
      ],
      "metadata": {
        "id": "D3xLXQ4OWPLj"
      }
    },
    {
      "cell_type": "markdown",
      "source": [
        "Importing Libraries"
      ],
      "metadata": {
        "id": "q23swt-YSMCs"
      }
    },
    {
      "cell_type": "code",
      "execution_count": 8,
      "metadata": {
        "id": "hfd5we-nOuzf"
      },
      "outputs": [],
      "source": [
        "import pandas as pd"
      ]
    },
    {
      "cell_type": "markdown",
      "source": [
        " Uploading CSV data into online notebook"
      ],
      "metadata": {
        "id": "7pymflaLSO1n"
      }
    },
    {
      "cell_type": "code",
      "source": [
        "from google.colab import files        #uploading data into online notebook\n",
        "uploaded = files.upload()"
      ],
      "metadata": {
        "colab": {
          "base_uri": "https://localhost:8080/",
          "height": 73
        },
        "id": "QJJ23SCHPp_X",
        "outputId": "781c5088-14a5-41fe-f0c3-b6013ac21217"
      },
      "execution_count": 9,
      "outputs": [
        {
          "output_type": "display_data",
          "data": {
            "text/plain": [
              "<IPython.core.display.HTML object>"
            ],
            "text/html": [
              "\n",
              "     <input type=\"file\" id=\"files-63ff3b8f-6b51-434c-bafb-271184e38ddd\" name=\"files[]\" multiple disabled\n",
              "        style=\"border:none\" />\n",
              "     <output id=\"result-63ff3b8f-6b51-434c-bafb-271184e38ddd\">\n",
              "      Upload widget is only available when the cell has been executed in the\n",
              "      current browser session. Please rerun this cell to enable.\n",
              "      </output>\n",
              "      <script>// Copyright 2017 Google LLC\n",
              "//\n",
              "// Licensed under the Apache License, Version 2.0 (the \"License\");\n",
              "// you may not use this file except in compliance with the License.\n",
              "// You may obtain a copy of the License at\n",
              "//\n",
              "//      http://www.apache.org/licenses/LICENSE-2.0\n",
              "//\n",
              "// Unless required by applicable law or agreed to in writing, software\n",
              "// distributed under the License is distributed on an \"AS IS\" BASIS,\n",
              "// WITHOUT WARRANTIES OR CONDITIONS OF ANY KIND, either express or implied.\n",
              "// See the License for the specific language governing permissions and\n",
              "// limitations under the License.\n",
              "\n",
              "/**\n",
              " * @fileoverview Helpers for google.colab Python module.\n",
              " */\n",
              "(function(scope) {\n",
              "function span(text, styleAttributes = {}) {\n",
              "  const element = document.createElement('span');\n",
              "  element.textContent = text;\n",
              "  for (const key of Object.keys(styleAttributes)) {\n",
              "    element.style[key] = styleAttributes[key];\n",
              "  }\n",
              "  return element;\n",
              "}\n",
              "\n",
              "// Max number of bytes which will be uploaded at a time.\n",
              "const MAX_PAYLOAD_SIZE = 100 * 1024;\n",
              "\n",
              "function _uploadFiles(inputId, outputId) {\n",
              "  const steps = uploadFilesStep(inputId, outputId);\n",
              "  const outputElement = document.getElementById(outputId);\n",
              "  // Cache steps on the outputElement to make it available for the next call\n",
              "  // to uploadFilesContinue from Python.\n",
              "  outputElement.steps = steps;\n",
              "\n",
              "  return _uploadFilesContinue(outputId);\n",
              "}\n",
              "\n",
              "// This is roughly an async generator (not supported in the browser yet),\n",
              "// where there are multiple asynchronous steps and the Python side is going\n",
              "// to poll for completion of each step.\n",
              "// This uses a Promise to block the python side on completion of each step,\n",
              "// then passes the result of the previous step as the input to the next step.\n",
              "function _uploadFilesContinue(outputId) {\n",
              "  const outputElement = document.getElementById(outputId);\n",
              "  const steps = outputElement.steps;\n",
              "\n",
              "  const next = steps.next(outputElement.lastPromiseValue);\n",
              "  return Promise.resolve(next.value.promise).then((value) => {\n",
              "    // Cache the last promise value to make it available to the next\n",
              "    // step of the generator.\n",
              "    outputElement.lastPromiseValue = value;\n",
              "    return next.value.response;\n",
              "  });\n",
              "}\n",
              "\n",
              "/**\n",
              " * Generator function which is called between each async step of the upload\n",
              " * process.\n",
              " * @param {string} inputId Element ID of the input file picker element.\n",
              " * @param {string} outputId Element ID of the output display.\n",
              " * @return {!Iterable<!Object>} Iterable of next steps.\n",
              " */\n",
              "function* uploadFilesStep(inputId, outputId) {\n",
              "  const inputElement = document.getElementById(inputId);\n",
              "  inputElement.disabled = false;\n",
              "\n",
              "  const outputElement = document.getElementById(outputId);\n",
              "  outputElement.innerHTML = '';\n",
              "\n",
              "  const pickedPromise = new Promise((resolve) => {\n",
              "    inputElement.addEventListener('change', (e) => {\n",
              "      resolve(e.target.files);\n",
              "    });\n",
              "  });\n",
              "\n",
              "  const cancel = document.createElement('button');\n",
              "  inputElement.parentElement.appendChild(cancel);\n",
              "  cancel.textContent = 'Cancel upload';\n",
              "  const cancelPromise = new Promise((resolve) => {\n",
              "    cancel.onclick = () => {\n",
              "      resolve(null);\n",
              "    };\n",
              "  });\n",
              "\n",
              "  // Wait for the user to pick the files.\n",
              "  const files = yield {\n",
              "    promise: Promise.race([pickedPromise, cancelPromise]),\n",
              "    response: {\n",
              "      action: 'starting',\n",
              "    }\n",
              "  };\n",
              "\n",
              "  cancel.remove();\n",
              "\n",
              "  // Disable the input element since further picks are not allowed.\n",
              "  inputElement.disabled = true;\n",
              "\n",
              "  if (!files) {\n",
              "    return {\n",
              "      response: {\n",
              "        action: 'complete',\n",
              "      }\n",
              "    };\n",
              "  }\n",
              "\n",
              "  for (const file of files) {\n",
              "    const li = document.createElement('li');\n",
              "    li.append(span(file.name, {fontWeight: 'bold'}));\n",
              "    li.append(span(\n",
              "        `(${file.type || 'n/a'}) - ${file.size} bytes, ` +\n",
              "        `last modified: ${\n",
              "            file.lastModifiedDate ? file.lastModifiedDate.toLocaleDateString() :\n",
              "                                    'n/a'} - `));\n",
              "    const percent = span('0% done');\n",
              "    li.appendChild(percent);\n",
              "\n",
              "    outputElement.appendChild(li);\n",
              "\n",
              "    const fileDataPromise = new Promise((resolve) => {\n",
              "      const reader = new FileReader();\n",
              "      reader.onload = (e) => {\n",
              "        resolve(e.target.result);\n",
              "      };\n",
              "      reader.readAsArrayBuffer(file);\n",
              "    });\n",
              "    // Wait for the data to be ready.\n",
              "    let fileData = yield {\n",
              "      promise: fileDataPromise,\n",
              "      response: {\n",
              "        action: 'continue',\n",
              "      }\n",
              "    };\n",
              "\n",
              "    // Use a chunked sending to avoid message size limits. See b/62115660.\n",
              "    let position = 0;\n",
              "    do {\n",
              "      const length = Math.min(fileData.byteLength - position, MAX_PAYLOAD_SIZE);\n",
              "      const chunk = new Uint8Array(fileData, position, length);\n",
              "      position += length;\n",
              "\n",
              "      const base64 = btoa(String.fromCharCode.apply(null, chunk));\n",
              "      yield {\n",
              "        response: {\n",
              "          action: 'append',\n",
              "          file: file.name,\n",
              "          data: base64,\n",
              "        },\n",
              "      };\n",
              "\n",
              "      let percentDone = fileData.byteLength === 0 ?\n",
              "          100 :\n",
              "          Math.round((position / fileData.byteLength) * 100);\n",
              "      percent.textContent = `${percentDone}% done`;\n",
              "\n",
              "    } while (position < fileData.byteLength);\n",
              "  }\n",
              "\n",
              "  // All done.\n",
              "  yield {\n",
              "    response: {\n",
              "      action: 'complete',\n",
              "    }\n",
              "  };\n",
              "}\n",
              "\n",
              "scope.google = scope.google || {};\n",
              "scope.google.colab = scope.google.colab || {};\n",
              "scope.google.colab._files = {\n",
              "  _uploadFiles,\n",
              "  _uploadFilesContinue,\n",
              "};\n",
              "})(self);\n",
              "</script> "
            ]
          },
          "metadata": {}
        },
        {
          "output_type": "stream",
          "name": "stdout",
          "text": [
            "Saving car_model_sample.csv to car_model_sample.csv\n"
          ]
        }
      ]
    },
    {
      "cell_type": "markdown",
      "source": [
        "Read the CSV file"
      ],
      "metadata": {
        "id": "vzPHCwEzSZ9l"
      }
    },
    {
      "cell_type": "code",
      "source": [
        "# Read the CSV file\n",
        "df_car_model  = pd.read_csv(\"car_model_sample.csv\")"
      ],
      "metadata": {
        "id": "MCNxsES9PBO_"
      },
      "execution_count": 21,
      "outputs": []
    },
    {
      "cell_type": "markdown",
      "source": [
        "Uploading excel data into online notebook"
      ],
      "metadata": {
        "id": "BQ5Jh1uDSWHz"
      }
    },
    {
      "cell_type": "code",
      "source": [
        "from google.colab import files        #uploading data into online notebook\n",
        "uploaded = files.upload()"
      ],
      "metadata": {
        "colab": {
          "base_uri": "https://localhost:8080/",
          "height": 73
        },
        "id": "tZ8XA_lwQaEM",
        "outputId": "eea57ec6-650d-4f01-fdba-73a46561aa69"
      },
      "execution_count": 11,
      "outputs": [
        {
          "output_type": "display_data",
          "data": {
            "text/plain": [
              "<IPython.core.display.HTML object>"
            ],
            "text/html": [
              "\n",
              "     <input type=\"file\" id=\"files-69a5c274-6481-4cc7-8a45-b1acde9de679\" name=\"files[]\" multiple disabled\n",
              "        style=\"border:none\" />\n",
              "     <output id=\"result-69a5c274-6481-4cc7-8a45-b1acde9de679\">\n",
              "      Upload widget is only available when the cell has been executed in the\n",
              "      current browser session. Please rerun this cell to enable.\n",
              "      </output>\n",
              "      <script>// Copyright 2017 Google LLC\n",
              "//\n",
              "// Licensed under the Apache License, Version 2.0 (the \"License\");\n",
              "// you may not use this file except in compliance with the License.\n",
              "// You may obtain a copy of the License at\n",
              "//\n",
              "//      http://www.apache.org/licenses/LICENSE-2.0\n",
              "//\n",
              "// Unless required by applicable law or agreed to in writing, software\n",
              "// distributed under the License is distributed on an \"AS IS\" BASIS,\n",
              "// WITHOUT WARRANTIES OR CONDITIONS OF ANY KIND, either express or implied.\n",
              "// See the License for the specific language governing permissions and\n",
              "// limitations under the License.\n",
              "\n",
              "/**\n",
              " * @fileoverview Helpers for google.colab Python module.\n",
              " */\n",
              "(function(scope) {\n",
              "function span(text, styleAttributes = {}) {\n",
              "  const element = document.createElement('span');\n",
              "  element.textContent = text;\n",
              "  for (const key of Object.keys(styleAttributes)) {\n",
              "    element.style[key] = styleAttributes[key];\n",
              "  }\n",
              "  return element;\n",
              "}\n",
              "\n",
              "// Max number of bytes which will be uploaded at a time.\n",
              "const MAX_PAYLOAD_SIZE = 100 * 1024;\n",
              "\n",
              "function _uploadFiles(inputId, outputId) {\n",
              "  const steps = uploadFilesStep(inputId, outputId);\n",
              "  const outputElement = document.getElementById(outputId);\n",
              "  // Cache steps on the outputElement to make it available for the next call\n",
              "  // to uploadFilesContinue from Python.\n",
              "  outputElement.steps = steps;\n",
              "\n",
              "  return _uploadFilesContinue(outputId);\n",
              "}\n",
              "\n",
              "// This is roughly an async generator (not supported in the browser yet),\n",
              "// where there are multiple asynchronous steps and the Python side is going\n",
              "// to poll for completion of each step.\n",
              "// This uses a Promise to block the python side on completion of each step,\n",
              "// then passes the result of the previous step as the input to the next step.\n",
              "function _uploadFilesContinue(outputId) {\n",
              "  const outputElement = document.getElementById(outputId);\n",
              "  const steps = outputElement.steps;\n",
              "\n",
              "  const next = steps.next(outputElement.lastPromiseValue);\n",
              "  return Promise.resolve(next.value.promise).then((value) => {\n",
              "    // Cache the last promise value to make it available to the next\n",
              "    // step of the generator.\n",
              "    outputElement.lastPromiseValue = value;\n",
              "    return next.value.response;\n",
              "  });\n",
              "}\n",
              "\n",
              "/**\n",
              " * Generator function which is called between each async step of the upload\n",
              " * process.\n",
              " * @param {string} inputId Element ID of the input file picker element.\n",
              " * @param {string} outputId Element ID of the output display.\n",
              " * @return {!Iterable<!Object>} Iterable of next steps.\n",
              " */\n",
              "function* uploadFilesStep(inputId, outputId) {\n",
              "  const inputElement = document.getElementById(inputId);\n",
              "  inputElement.disabled = false;\n",
              "\n",
              "  const outputElement = document.getElementById(outputId);\n",
              "  outputElement.innerHTML = '';\n",
              "\n",
              "  const pickedPromise = new Promise((resolve) => {\n",
              "    inputElement.addEventListener('change', (e) => {\n",
              "      resolve(e.target.files);\n",
              "    });\n",
              "  });\n",
              "\n",
              "  const cancel = document.createElement('button');\n",
              "  inputElement.parentElement.appendChild(cancel);\n",
              "  cancel.textContent = 'Cancel upload';\n",
              "  const cancelPromise = new Promise((resolve) => {\n",
              "    cancel.onclick = () => {\n",
              "      resolve(null);\n",
              "    };\n",
              "  });\n",
              "\n",
              "  // Wait for the user to pick the files.\n",
              "  const files = yield {\n",
              "    promise: Promise.race([pickedPromise, cancelPromise]),\n",
              "    response: {\n",
              "      action: 'starting',\n",
              "    }\n",
              "  };\n",
              "\n",
              "  cancel.remove();\n",
              "\n",
              "  // Disable the input element since further picks are not allowed.\n",
              "  inputElement.disabled = true;\n",
              "\n",
              "  if (!files) {\n",
              "    return {\n",
              "      response: {\n",
              "        action: 'complete',\n",
              "      }\n",
              "    };\n",
              "  }\n",
              "\n",
              "  for (const file of files) {\n",
              "    const li = document.createElement('li');\n",
              "    li.append(span(file.name, {fontWeight: 'bold'}));\n",
              "    li.append(span(\n",
              "        `(${file.type || 'n/a'}) - ${file.size} bytes, ` +\n",
              "        `last modified: ${\n",
              "            file.lastModifiedDate ? file.lastModifiedDate.toLocaleDateString() :\n",
              "                                    'n/a'} - `));\n",
              "    const percent = span('0% done');\n",
              "    li.appendChild(percent);\n",
              "\n",
              "    outputElement.appendChild(li);\n",
              "\n",
              "    const fileDataPromise = new Promise((resolve) => {\n",
              "      const reader = new FileReader();\n",
              "      reader.onload = (e) => {\n",
              "        resolve(e.target.result);\n",
              "      };\n",
              "      reader.readAsArrayBuffer(file);\n",
              "    });\n",
              "    // Wait for the data to be ready.\n",
              "    let fileData = yield {\n",
              "      promise: fileDataPromise,\n",
              "      response: {\n",
              "        action: 'continue',\n",
              "      }\n",
              "    };\n",
              "\n",
              "    // Use a chunked sending to avoid message size limits. See b/62115660.\n",
              "    let position = 0;\n",
              "    do {\n",
              "      const length = Math.min(fileData.byteLength - position, MAX_PAYLOAD_SIZE);\n",
              "      const chunk = new Uint8Array(fileData, position, length);\n",
              "      position += length;\n",
              "\n",
              "      const base64 = btoa(String.fromCharCode.apply(null, chunk));\n",
              "      yield {\n",
              "        response: {\n",
              "          action: 'append',\n",
              "          file: file.name,\n",
              "          data: base64,\n",
              "        },\n",
              "      };\n",
              "\n",
              "      let percentDone = fileData.byteLength === 0 ?\n",
              "          100 :\n",
              "          Math.round((position / fileData.byteLength) * 100);\n",
              "      percent.textContent = `${percentDone}% done`;\n",
              "\n",
              "    } while (position < fileData.byteLength);\n",
              "  }\n",
              "\n",
              "  // All done.\n",
              "  yield {\n",
              "    response: {\n",
              "      action: 'complete',\n",
              "    }\n",
              "  };\n",
              "}\n",
              "\n",
              "scope.google = scope.google || {};\n",
              "scope.google.colab = scope.google.colab || {};\n",
              "scope.google.colab._files = {\n",
              "  _uploadFiles,\n",
              "  _uploadFilesContinue,\n",
              "};\n",
              "})(self);\n",
              "</script> "
            ]
          },
          "metadata": {}
        },
        {
          "output_type": "stream",
          "name": "stdout",
          "text": [
            "Saving carprizing_loneamount.xlsx to carprizing_loneamount.xlsx\n"
          ]
        }
      ]
    },
    {
      "cell_type": "markdown",
      "source": [
        "**Write the code to read the csv file and the excel file and convert them into the Data frame.**\n",
        "\n",
        "---"
      ],
      "metadata": {
        "id": "5vtqgWaZToFt"
      }
    },
    {
      "cell_type": "markdown",
      "source": [
        "Read the excel file"
      ],
      "metadata": {
        "id": "RYwwkP8mShe0"
      }
    },
    {
      "cell_type": "code",
      "source": [
        "# Read the excel file\n",
        "df_car_pricing  = pd.read_excel(\"carprizing_loneamount.xlsx\")"
      ],
      "metadata": {
        "id": "cZ3v2inYQHEz"
      },
      "execution_count": 19,
      "outputs": []
    },
    {
      "cell_type": "markdown",
      "source": [
        "Print the first 5 and last 5 rows of the CSV DataFrame"
      ],
      "metadata": {
        "id": "FraHbUFUSol6"
      }
    },
    {
      "cell_type": "code",
      "source": [
        "# Print the first 5 and last 5 rows of the CSV DataFrame\n",
        "print(\"CSV DataFrame:\")\n",
        "print(df_car_model.head())\n",
        "print(\" \")\n",
        "print(df_car_model.tail())"
      ],
      "metadata": {
        "colab": {
          "base_uri": "https://localhost:8080/"
        },
        "id": "YCXcMHLCPzAK",
        "outputId": "7dc9a18a-9118-42cf-b7ef-bb2a96696de6"
      },
      "execution_count": 22,
      "outputs": [
        {
          "output_type": "stream",
          "name": "stdout",
          "text": [
            "CSV DataFrame:\n",
            "  Company Name Model Name Fuel Type    Body Style Car Length\n",
            "0        Honda      Civic       Gas         Sedan     4645mm\n",
            "1       Toyota    Corolla    Hybrid         Sedan     4620mm\n",
            "2         Ford      F-150       Gas  Pickup Truck     5885mm\n",
            "3        Tesla    Model S        EV         Sedan     4978mm\n",
            "4          BMW   3 Series       Gas         Sedan     4700mm\n",
            " \n",
            "      Company Name Model Name Fuel Type    Body Style Car Length\n",
            "105          Volvo       XC40    Hybrid           SUV     4425mm\n",
            "106           Jeep  Gladiator       Gas  Pickup Truck     5531mm\n",
            "107  Mercedes-Benz        GLE    Hybrid           SUV     4924mm\n",
            "108          Lexus         LS    Hybrid         Sedan     5235mm\n",
            "109        Porsche     Taycan        EV         Sedan     4963mm\n"
          ]
        }
      ]
    },
    {
      "cell_type": "markdown",
      "source": [
        "Print the first 5 and last 5 rows of the Excel DataFrame"
      ],
      "metadata": {
        "id": "pu-8astZSt-C"
      }
    },
    {
      "cell_type": "code",
      "source": [
        "# Print the first 5 and last 5 rows of the Excel DataFrame\n",
        "print(\"Excel DataFrame:\")\n",
        "print(df_car_pricing .head())\n",
        "print(\" \")\n",
        "print(df_car_pricing .tail())"
      ],
      "metadata": {
        "colab": {
          "base_uri": "https://localhost:8080/"
        },
        "id": "jW0VGNTXQCNS",
        "outputId": "7693bf51-2b3f-4a1b-981b-63393f78dcd4"
      },
      "execution_count": 23,
      "outputs": [
        {
          "output_type": "stream",
          "name": "stdout",
          "text": [
            "Excel DataFrame:\n",
            "    Company Name Model Name On Road Pricing (in INR) Loan Amount (in INR)  \\\n",
            "0  Maruti Suzuki      Swift                 6,50,000             5,00,000   \n",
            "1        Hyundai        i20                 8,00,000             6,50,000   \n",
            "2          Honda       City                12,00,000            10,00,000   \n",
            "3         Toyota   Fortuner                36,00,000            28,00,000   \n",
            "4           Tata      Nexon                10,00,000             8,50,000   \n",
            "\n",
            "  Monthly EMI (in INR)  Interest Rate Monthly Principal (in INR)  \\\n",
            "0                10800         0.0900                       7000   \n",
            "1                13500         0.0850                       9000   \n",
            "2                20000         0.0975                      16000   \n",
            "3                55000         0.0825                      47000   \n",
            "4                17000         0.1025                      13000   \n",
            "\n",
            "   Monthly Interest (in INR)  \n",
            "0                       3800  \n",
            "1                       4500  \n",
            "2                       4000  \n",
            "3                       8000  \n",
            "4                       4000  \n",
            " \n",
            "     Company Name Model Name On Road Pricing (in INR) Loan Amount (in INR)  \\\n",
            "48             MG      ZS EV                24,00,000            19,20,000   \n",
            "49          Honda      Amaze                 9,00,000             7,20,000   \n",
            "50          Skoda      Rapid                12,00,000             9,60,000   \n",
            "51            BMW         X1                42,00,000            33,60,000   \n",
            "52  Mercedes-Benz    S-Class              1,50,00,000          1,20,00,000   \n",
            "\n",
            "   Monthly EMI (in INR)  Interest Rate Monthly Principal (in INR)  \\\n",
            "48                38400         0.0850                      30000   \n",
            "49                14400         0.0900                      12000   \n",
            "50                19200         0.0875                      15000   \n",
            "51                67200         0.0950                      54000   \n",
            "52             2,40,000         0.0875                   2,04,000   \n",
            "\n",
            "    Monthly Interest (in INR)  \n",
            "48                       8400  \n",
            "49                       2400  \n",
            "50                       4200  \n",
            "51                      13200  \n",
            "52                      36000  \n"
          ]
        }
      ]
    },
    {
      "cell_type": "markdown",
      "source": [
        "**Merge the two Data frame on the basis of primary key** \n",
        "---\n",
        "\n"
      ],
      "metadata": {
        "id": "UVEWNr7MTJr9"
      }
    },
    {
      "cell_type": "code",
      "source": [
        "# Merge the two DataFrames based on the \"Model Name\" column\n",
        "merged_df = pd.merge(df_car_model, df_car_pricing, on=\"Model Name\")"
      ],
      "metadata": {
        "id": "RT997vSlTH4D"
      },
      "execution_count": 25,
      "outputs": []
    },
    {
      "cell_type": "code",
      "source": [
        "# Print the merged DataFrame\n",
        "print(merged_df.head())"
      ],
      "metadata": {
        "colab": {
          "base_uri": "https://localhost:8080/"
        },
        "id": "wEex6aF7UUbS",
        "outputId": "fae1fe0e-2469-46b4-e3b5-472baf436af0"
      },
      "execution_count": 26,
      "outputs": [
        {
          "output_type": "stream",
          "name": "stdout",
          "text": [
            "  Company Name_x Model Name Fuel Type Body Style Car Length Company Name_y  \\\n",
            "0           Audi         Q7    Hybrid        SUV     5063mm           Audi   \n",
            "1  Mercedes-Benz    S-Class    Hybrid      Sedan     5116mm  Mercedes-Benz   \n",
            "2         Jaguar         XF    Hybrid      Sedan     4954mm         Jaguar   \n",
            "3          Tesla    Model 3        EV      Sedan     4694mm          Tesla   \n",
            "4           Audi         A6    Hybrid      Sedan     4954mm           Audi   \n",
            "\n",
            "  On Road Pricing (in INR) Loan Amount (in INR) Monthly EMI (in INR)  \\\n",
            "0                90,00,000            72,00,000             1,44,000   \n",
            "1              1,50,00,000          1,20,00,000             2,40,000   \n",
            "2                70,00,000            60,00,000             1,20,000   \n",
            "3                60,00,000            50,00,000             1,00,000   \n",
            "4                60,00,000            50,00,000             1,00,000   \n",
            "\n",
            "   Interest Rate Monthly Principal (in INR)  Monthly Interest (in INR)  \n",
            "0         0.0900                     123000                      21000  \n",
            "1         0.0875                   2,04,000                      36000  \n",
            "2         0.0875                      98000                      22000  \n",
            "3         0.0775                      74000                      26000  \n",
            "4         0.0850                      84000                      16000  \n"
          ]
        }
      ]
    },
    {
      "cell_type": "markdown",
      "source": [
        "**Fill the “NA” values in the merged data frame**\n",
        "\n",
        " ---"
      ],
      "metadata": {
        "id": "tOuUZyjIUjqh"
      }
    },
    {
      "cell_type": "code",
      "source": [
        "# Fill the \"NA\" values in the merged DataFrame with zeros\n",
        "merged_df.fillna(0, inplace=True)"
      ],
      "metadata": {
        "id": "KLZrXfZbUxXl"
      },
      "execution_count": 27,
      "outputs": []
    },
    {
      "cell_type": "code",
      "source": [
        "# Print the merged DataFrame with \"NA\" values filled\n",
        "print(merged_df.head())"
      ],
      "metadata": {
        "colab": {
          "base_uri": "https://localhost:8080/"
        },
        "id": "L-PSrQyaU29y",
        "outputId": "55642b60-daf8-45e3-e7e8-ebfa8391c957"
      },
      "execution_count": 28,
      "outputs": [
        {
          "output_type": "stream",
          "name": "stdout",
          "text": [
            "  Company Name_x Model Name Fuel Type Body Style Car Length Company Name_y  \\\n",
            "0           Audi         Q7    Hybrid        SUV     5063mm           Audi   \n",
            "1  Mercedes-Benz    S-Class    Hybrid      Sedan     5116mm  Mercedes-Benz   \n",
            "2         Jaguar         XF    Hybrid      Sedan     4954mm         Jaguar   \n",
            "3          Tesla    Model 3        EV      Sedan     4694mm          Tesla   \n",
            "4           Audi         A6    Hybrid      Sedan     4954mm           Audi   \n",
            "\n",
            "  On Road Pricing (in INR) Loan Amount (in INR) Monthly EMI (in INR)  \\\n",
            "0                90,00,000            72,00,000             1,44,000   \n",
            "1              1,50,00,000          1,20,00,000             2,40,000   \n",
            "2                70,00,000            60,00,000             1,20,000   \n",
            "3                60,00,000            50,00,000             1,00,000   \n",
            "4                60,00,000            50,00,000             1,00,000   \n",
            "\n",
            "   Interest Rate Monthly Principal (in INR)  Monthly Interest (in INR)  \n",
            "0         0.0900                     123000                      21000  \n",
            "1         0.0875                   2,04,000                      36000  \n",
            "2         0.0875                      98000                      22000  \n",
            "3         0.0775                      74000                      26000  \n",
            "4         0.0850                      84000                      16000  \n"
          ]
        }
      ]
    },
    {
      "cell_type": "markdown",
      "source": [
        "**Iterate over the merged Data frame and add the GST value in the “On road pricing” column**\n",
        "\n",
        "---\n",
        "\n"
      ],
      "metadata": {
        "id": "8PhO8zDCU41S"
      }
    },
    {
      "cell_type": "code",
      "source": [
        "# Convert the \"On Road Pricing (in INR)\" column to a numeric data type\n",
        "merged_df[\"On Road Pricing (in INR)\"] = pd.to_numeric(merged_df[\"On Road Pricing (in INR)\"], errors=\"coerce\")\n"
      ],
      "metadata": {
        "id": "Ga8_BZKAV2Sl"
      },
      "execution_count": 31,
      "outputs": []
    },
    {
      "cell_type": "code",
      "source": [
        "# Iterate over the merged DataFrame and add the GST value to the \"On road pricing\" column\n",
        "for index, row in merged_df.iterrows():\n",
        "    merged_df.at[index, \"On Road Pricing (in INR)\"] += merged_df.at[index, \"On Road Pricing (in INR)\"] * 0.12\n",
        "\n"
      ],
      "metadata": {
        "id": "2CkQNtqLVAni"
      },
      "execution_count": 32,
      "outputs": []
    },
    {
      "cell_type": "code",
      "source": [
        "print(merged_df.head())"
      ],
      "metadata": {
        "colab": {
          "base_uri": "https://localhost:8080/"
        },
        "id": "D0mcae4WWCLO",
        "outputId": "3fddd646-d2e3-42e1-dc8c-cf199bfea526"
      },
      "execution_count": 35,
      "outputs": [
        {
          "output_type": "stream",
          "name": "stdout",
          "text": [
            "  Company Name_x Model Name Fuel Type Body Style Car Length Company Name_y  \\\n",
            "0           Audi         Q7    Hybrid        SUV     5063mm           Audi   \n",
            "1  Mercedes-Benz    S-Class    Hybrid      Sedan     5116mm  Mercedes-Benz   \n",
            "2         Jaguar         XF    Hybrid      Sedan     4954mm         Jaguar   \n",
            "3          Tesla    Model 3        EV      Sedan     4694mm          Tesla   \n",
            "4           Audi         A6    Hybrid      Sedan     4954mm           Audi   \n",
            "\n",
            "   On Road Pricing (in INR) Loan Amount (in INR) Monthly EMI (in INR)  \\\n",
            "0                       0.0            72,00,000             1,44,000   \n",
            "1                       0.0          1,20,00,000             2,40,000   \n",
            "2                       0.0            60,00,000             1,20,000   \n",
            "3                       0.0            50,00,000             1,00,000   \n",
            "4                       0.0            50,00,000             1,00,000   \n",
            "\n",
            "   Interest Rate Monthly Principal (in INR)  Monthly Interest (in INR)  \n",
            "0         0.0900                     123000                      21000  \n",
            "1         0.0875                   2,04,000                      36000  \n",
            "2         0.0875                      98000                      22000  \n",
            "3         0.0775                      74000                      26000  \n",
            "4         0.0850                      84000                      16000  \n"
          ]
        }
      ]
    },
    {
      "cell_type": "markdown",
      "source": [
        "**By Akulk Zaheer Sha**\n",
        "\n",
        "\n",
        "**a.zaheersha@gmail.com**\n",
        "\n",
        "**9494333702**"
      ],
      "metadata": {
        "id": "ZVO6IqC-YNkt"
      }
    }
  ]
}